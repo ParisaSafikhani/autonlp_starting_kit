{
 "cells": [
  {
   "cell_type": "markdown",
   "metadata": {},
   "source": [
    "<div><img src=\"autoCV_logo.png\" width=\"220\" ALIGN=\"left\" border=\"20\"></div>\n",
    "<center><font color=\"4466ff\"> <h1>AutoCV Challenge Tutorial </h1> </font></center>\n",
    "\n",
    "ALL INFORMATION, SOFTWARE, DOCUMENTATION, AND DATA ARE PROVIDED \"AS-IS\".\n",
    "UNIVERSITE PARIS SUD, INRIA, CHALEARN, AND/OR OTHER ORGANIZERS\n",
    "OR CODE AUTHORS DISCLAIM ANY EXPRESSED OR IMPLIED WARRANTIES."
   ]
  },
  {
   "cell_type": "markdown",
   "metadata": {},
   "source": [
    "# Before we start, you need to know that\n",
    "\n",
    "* We target applications of multi-label image classification. \n",
    "* Raw data are provided, in TFRecord format.  \n",
    "* We impose restrictions on training time and resources to push the state-of-the-art further.\n",
    "* This notebook uses sample data. Download larger datasets from the website of the challenge."
   ]
  },
  {
   "cell_type": "code",
   "execution_count": 1,
   "metadata": {},
   "outputs": [],
   "source": [
    "from os.path import join\n",
    "import numpy as np\n",
    "import matplotlib.pyplot as plt\n",
    "%matplotlib inline"
   ]
  },
  {
   "cell_type": "code",
   "execution_count": 2,
   "metadata": {},
   "outputs": [],
   "source": [
    "inges_dir = 'AutoDL_ingestion_program/'           # Ingestion program directory\n",
    "score_dir = 'AutoDL_scoring_program/'             # Scoring program directory\n",
    "model_dir = 'AutoDL_sample_code_submission/'      # Where model code is, called model.py\n",
    "baseline_dir = 'AutoDL_simple_baseline_models/'   # some baseline methods are implemented here\n",
    "\n",
    "output_dir = 'AutoDL_scoring_output'\n",
    "detailed_results_page = join(output_dir, 'detailed_results.html')\n",
    "\n",
    "from sys import path; \n",
    "path.append(model_dir); path.append(inges_dir); path.append(score_dir); path.append(baseline_dir);"
   ]
  },
  {
   "cell_type": "markdown",
   "metadata": {},
   "source": [
    "# Part 1: Dataset Overview"
   ]
  },
  {
   "cell_type": "markdown",
   "metadata": {},
   "source": [
    "<font color='red'>Let's start with a sample dataset miniciao, which can be found in <code>./AutoDL_sample_data/miniciao</code>"
   ]
  },
  {
   "cell_type": "code",
   "execution_count": 3,
   "metadata": {},
   "outputs": [
    {
     "name": "stdout",
     "output_type": "stream",
     "text": [
      "Monkeys  miniciao\r\n"
     ]
    }
   ],
   "source": [
    "data_dir = 'AutoDL_sample_data'            # Change this directory and the dataset as needed\n",
    "data_name = 'miniciao'\n",
    "!ls $data_dir"
   ]
  },
  {
   "cell_type": "code",
   "execution_count": 4,
   "metadata": {},
   "outputs": [
    {
     "name": "stdout",
     "output_type": "stream",
     "text": [
      "WARNING:tensorflow:From /usr/local/lib/python3.5/dist-packages/tensorflow/python/ops/tensor_array_ops.py:162: colocate_with (from tensorflow.python.framework.ops) is deprecated and will be removed in a future version.\n",
      "Instructions for updating:\n",
      "Colocations handled automatically by placer.\n",
      "WARNING:tensorflow:From AutoDL_ingestion_program/dataset.py:234: sparse_to_dense (from tensorflow.python.ops.sparse_ops) is deprecated and will be removed in a future version.\n",
      "Instructions for updating:\n",
      "Create a `tf.sparse.SparseTensor` and use `tf.sparse.to_dense` instead.\n"
     ]
    }
   ],
   "source": [
    "# read train / test datasets\n",
    "from dataset import AutoDLDataset # The module 'dataset' is defined at AutoDL_ingestion_program/dataset.py\n",
    "D_train = AutoDLDataset(join(data_dir, data_name + '/' + data_name + '.data', \"train\"))\n",
    "D_test = AutoDLDataset(join(data_dir, data_name + '/' + data_name + '.data', \"test\"))"
   ]
  },
  {
   "cell_type": "code",
   "execution_count": 5,
   "metadata": {},
   "outputs": [
    {
     "name": "stdout",
     "output_type": "stream",
     "text": [
      "Dataset path:  AutoDL_sample_data/miniciao/miniciao.data/train\n",
      "Image shape:  (32, 32, 3)\n",
      "Dataset size:  82\n",
      "Output size:  10\n",
      "Class labels:  ['airplane', 'automobile', 'bird', 'cat', 'deer', 'dog', 'frog', 'horse', 'ship', 'truck']\n"
     ]
    }
   ],
   "source": [
    "# show important meta information about the dataset\n",
    "print (\"Dataset path: \", D_train.get_metadata().get_dataset_name())\n",
    "print (\"Image shape: \",  D_train.get_metadata().get_tensor_size(0))\n",
    "print (\"Dataset size: \", D_train.get_metadata().size())\n",
    "print (\"Output size: \",  D_train.get_metadata().get_output_size())\n",
    "print (\"Class labels: \", D_train.get_class_labels())"
   ]
  },
  {
   "cell_type": "code",
   "execution_count": 6,
   "metadata": {},
   "outputs": [
    {
     "data": {
      "image/png": "[encoded data removed]",
      "text/plain": [
       "<Figure size 432x288 with 1 Axes>"
      ]
     },
     "metadata": {
      "needs_background": "light"
     },
     "output_type": "display_data"
    },
    {
     "data": {
      "image/png": "[encoded data removed]",
      "text/plain": [
       "<Figure size 432x288 with 1 Axes>"
      ]
     },
     "metadata": {
      "needs_background": "light"
     },
     "output_type": "display_data"
    }
   ],
   "source": [
    "# show sample images\n",
    "D_train.show_image(1);\n",
    "D_train.show_image(11);"
   ]
  },
  {
   "cell_type": "markdown",
   "metadata": {},
   "source": [
    "<font color='red'>\n",
    "It should be noted that:\n",
    "    \n",
    "- in some datasets, the image shape is not fixed, i.e. some images are larger / smaller, when you get (-1, -1) as tensor size (image size) from meta information, it means that the image shapes are not identical in this dataset.\n",
    "- not all datasets have 3 channels\n",
    "- although this sample datset seems to have only one label for each image, it is not always true for other datsets.\n",
    "\n",
    "Thus, it depends on you to choose to adapt to different datasets. "
   ]
  },
  {
   "cell_type": "markdown",
   "metadata": {},
   "source": [
    "# Part 2: Model, Prediction and Metrics"
   ]
  },
  {
   "cell_type": "code",
   "execution_count": 7,
   "metadata": {},
   "outputs": [],
   "source": [
    "# copy simple model\n",
    "model_simple = join(baseline_dir, 'linear', 'model.py') # choose one simple baseline model\n",
    "model_submit = join(model_dir, 'model.py') # submitted models must be called model.py\n",
    "!cp $model_simple $model_submit"
   ]
  },
  {
   "cell_type": "code",
   "execution_count": 8,
   "metadata": {},
   "outputs": [],
   "source": [
    "# set time budget and instanciate the model with dataset\n",
    "from model import Model\n",
    "time_budget=200\n",
    "M = Model(D_train.get_metadata())"
   ]
  },
  {
   "cell_type": "code",
   "execution_count": 9,
   "metadata": {},
   "outputs": [
    {
     "name": "stdout",
     "output_type": "stream",
     "text": [
      "2019-07-24 14:18:58,222 INFO model.py: Counting number of examples on train set.\n",
      "2019-07-24 14:18:58,418 INFO model.py: Finished counting. There are 82 examples for training set.\n",
      "2019-07-24 14:18:58,419 INFO model.py: Model already trained for 0.0000 epochs.\n",
      "2019-07-24 14:18:58,420 INFO model.py: Begin training for another 10 steps...\n",
      "2019-07-24 14:18:58,440 INFO model.py: Tensor shape before preprocessing: (1, 32, 32, 3)\n",
      "2019-07-24 14:18:58,440 INFO model.py: Tensor shape after preprocessing: (1, 32, 32, 3)\n",
      "2019-07-24 14:18:59,654 INFO model.py: 10 steps trained. 1.23 sec used. Now total steps trained: 10. Total time used for training + test: 0.00 sec. \n"
     ]
    }
   ],
   "source": [
    "# train the model for a certain time\n",
    "M.train(D_train.get_dataset(), remaining_time_budget=time_budget)"
   ]
  },
  {
   "cell_type": "code",
   "execution_count": 10,
   "metadata": {},
   "outputs": [
    {
     "name": "stdout",
     "output_type": "stream",
     "text": [
      "2019-07-24 14:19:00,458 INFO model.py: Counting number of examples on test set.\n",
      "2019-07-24 14:19:00,647 INFO model.py: Finished counting. There are 18 examples for test set.\n",
      "2019-07-24 14:19:00,649 INFO model.py: Begin testing...\n",
      "2019-07-24 14:19:00,663 INFO model.py: Tensor shape before preprocessing: (1, 32, 32, 3)\n",
      "2019-07-24 14:19:00,663 INFO model.py: Tensor shape after preprocessing: (1, 32, 32, 3)\n",
      "2019-07-24 14:19:01,062 INFO model.py: [+] Successfully made one prediction. 0.41 sec used. Duration used for test: 0.413345\n"
     ]
    }
   ],
   "source": [
    "# get prediction by calling test method\n",
    "prediction = M.test(D_test.get_dataset(), remaining_time_budget=time_budget)"
   ]
  },
  {
   "cell_type": "markdown",
   "metadata": {},
   "source": [
    "<font color='red'> For each prediction made at a timestamp $t$, we compute for each (binary) class i the [ROC AUC](https://en.wikipedia.org/wiki/Receiver_operating_characteristic): **$AUC_i$**, then normalize it (and average over all classes) by: \n",
    "\\begin{equation*}\n",
    "AUC = \\frac{1}{C} \\sum_{i=1}^C AUC_i, \\quad NAUC = 2 \\times AUC - 1,\n",
    "\\end{equation*}\n",
    "\n",
    "$NAUC$ is also called Gini index in some context. Then, the learning curve can be plot as a function of **$NAUC$** vs. time. Let's denote the learning curve as $s(t)$. Since $s(t)$ is defined as the $NAUC$ of the most recent prediction made before timestamp $t$, $s(t)$ is actually a **step function**.\n",
    "\n",
    "As this challenge aims to push forward the state-of-the-art in the **any-time learning** setting, we use a performance metric related to the whole learning curve (instead of only the last point). This metric is computed as follows.\n",
    "- In order to normalize time interval [0, T] to the [0, 1] interval, we perform a time transformation by\n",
    "  $$\\tilde{t}(t) = \\frac{\\log (1 + t / t_0)}{\\log( 1 + T / t_0)}$$\n",
    "  where $T$ is the time budget (of default value 1200 seconds = 20 minutes) and $t_0$ is a reference time amount (of default value 60 seconds).\n",
    "- Then we compute the area under learning curve using the formula\n",
    "  \\begin{equation*}\n",
    "    \\begin{aligned}\n",
    "    ALC &= \\int_0^1 s(t) d\\tilde{t}(t) \\\\\n",
    "    &= \\int_0^T s(t) \\tilde{t}'(t) dt \\\\\n",
    "    &= \\frac{1}{\\log (1 + T/t_0)} \\int_0^T \\frac{s(t)}{ t + t_0} dt \\\\\n",
    "    \\end{aligned} \n",
    "  \\end{equation*}\n",
    "  we see that $s(t)$ is weighted by $1/(t + t_0)$, giving a stronger importance to predictions made at the beginning of th learning curve.\n",
    "\n",
    "This gives the evaluation score used for one task. Later, when ALC score is computed for all tasks, the final score is obtained by the average rank (over all tasks). It should be emphasized that multi-class classification metrics are not being considered, i.e., each class is scored independently.\n",
    "\n",
    "Let's see in the following how the scores are computed."
   ]
  },
  {
   "cell_type": "code",
   "execution_count": 11,
   "metadata": {},
   "outputs": [
    {
     "name": "stdout",
     "output_type": "stream",
     "text": [
      "2019-07-24 14:19:05,512 WARNING score.py: Some columns in solution have only one class, ignoring these columns for evaluation.\n",
      "Classification Accuracy:  0.05109918971235553\n",
      "Normalized Area Under ROC Curve (NAUC) = 0.1251.\n",
      "ALC can be read from the result page as shown in the next part.\n"
     ]
    }
   ],
   "source": [
    "# calculate scores\n",
    "from score import autodl_auc, accuracy\n",
    "from libscores import read_array\n",
    "solution_file = join(data_dir, data_name + '/' + data_name + '.solution')\n",
    "solution = read_array(solution_file)\n",
    "\n",
    "acc = accuracy(solution, prediction) # note that accuracy is not evaluation metric in the challenge\n",
    "current_bac = autodl_auc(solution, prediction)\n",
    "# print('Number of test examples: %d \\n\\t\\t Solution \\t\\t\\t\\t\\t Prediction ' % len(solution))\n",
    "# [print(z) for z in zip(solution, prediction)]\n",
    "print (\"Classification Accuracy: \", acc)\n",
    "print (\"Normalized Area Under ROC Curve (NAUC) = {:.4f}.\".format(current_bac))\n",
    "print (\"ALC can be read from the result page as shown in the next part.\")"
   ]
  },
  {
   "cell_type": "markdown",
   "metadata": {},
   "source": [
    "# Part 3: Test and Submission"
   ]
  },
  {
   "cell_type": "markdown",
   "metadata": {},
   "source": [
    "<font color='red'>\n",
    "    It is important that you test your submission files before submitting them. All you have to do to make a submission is modify the file <code>model.py</code> in the <code>AutoDL_sample_code_submission/</code> directory, then run this test to make sure everything works fine. This is the actual program that will be run on the server to test your submission. "
   ]
  },
  {
   "cell_type": "code",
   "execution_count": 12,
   "metadata": {
    "scrolled": true
   },
   "outputs": [
    {
     "name": "stdout",
     "output_type": "stream",
     "text": [
      "2019-07-24 14:19:09 INFO run_local_test.py: ##################################################\n",
      "2019-07-24 14:19:09 INFO run_local_test.py: Begin running local test using\n",
      "2019-07-24 14:19:09 INFO run_local_test.py: code_dir = AutoDL_sample_code_submission\n",
      "2019-07-24 14:19:09 INFO run_local_test.py: dataset_dir = miniciao\n",
      "2019-07-24 14:19:09 INFO run_local_test.py: ##################################################\n",
      "2019-07-24 14:19:09 INFO run_local_test.py: Cleaning existing output directory of last run: /app/codalab/AutoDL_sample_result_submission\n",
      "2019-07-24 14:19:09 INFO run_local_test.py: Cleaning existing output directory of last run: /app/codalab/AutoDL_scoring_output\n",
      "2019-07-24 14:19:09,406 INFO ingestion.py: ===== Start ingestion program. Version: v20190516 =====\n",
      "2019-07-24 14:19:12,773 INFO ingestion.py: ************************************************\n",
      "2019-07-24 14:19:12,773 INFO ingestion.py: ******** Processing dataset Miniciao ********\n",
      "2019-07-24 14:19:12,773 INFO ingestion.py: ************************************************\n",
      "2019-07-24 14:19:12,773 INFO ingestion.py: Reading training set and test set...\n",
      "WARNING:tensorflow:From /usr/local/lib/python3.5/dist-packages/tensorflow/python/ops/tensor_array_ops.py:162: colocate_with (from tensorflow.python.framework.ops) is deprecated and will be removed in a future version.\n",
      "Instructions for updating:\n",
      "Colocations handled automatically by placer.\n",
      "WARNING:tensorflow:From /app/codalab/AutoDL_ingestion_program/dataset.py:234: sparse_to_dense (from tensorflow.python.ops.sparse_ops) is deprecated and will be removed in a future version.\n",
      "Instructions for updating:\n",
      "Create a `tf.sparse.SparseTensor` and use `tf.sparse.to_dense` instead.\n",
      "2019-07-24 14:19:13,209 INFO ingestion.py: Creating model...\n",
      "2019-07-24 14:19:13,210 INFO ingestion.py: Begin training the model...\n",
      "2019-07-24 14:19:13,210 INFO model.py: Counting number of examples on train set.\n",
      "2019-07-24 14:19:13.232518: I tensorflow/core/platform/cpu_feature_guard.cc:141] Your CPU supports instructions that this TensorFlow binary was not compiled to use: AVX2 FMA\n",
      "2019-07-24 14:19:13.255775: I tensorflow/core/platform/profile_utils/cpu_utils.cc:94] CPU Frequency: 2199865000 Hz\n",
      "2019-07-24 14:19:13.259892: I tensorflow/compiler/xla/service/service.cc:150] XLA service 0x63e1b00 executing computations on platform Host. Devices:\n",
      "2019-07-24 14:19:13.259941: I tensorflow/compiler/xla/service/service.cc:158]   StreamExecutor device (0): <undefined>, <undefined>\n",
      "2019-07-24 14:19:13,461 INFO model.py: Finished counting. There are 82 examples for training set.\n",
      "2019-07-24 14:19:13,462 INFO model.py: Model already trained for 0.0000 epochs.\n",
      "2019-07-24 14:19:13,462 INFO model.py: Begin training for another 10 steps...\n",
      "2019-07-24 14:19:13,480 INFO model.py: Tensor shape before preprocessing: (1, 32, 32, 3)\n",
      "2019-07-24 14:19:13,480 INFO model.py: Tensor shape after preprocessing: (1, 32, 32, 3)\n",
      "2019-07-24 14:19:13,581 INFO score.py: Detected the start of ingestion after 3 seconds. Start scoring.\n",
      "2019-07-24 14:19:14.318061: W ./tensorflow/core/framework/model.h:202] Encountered a stop event that was not preceded by a start event.\n",
      "2019-07-24 14:19:14,574 INFO model.py: 10 steps trained. 1.11 sec used. Now total steps trained: 10. Total time used for training + test: 0.00 sec. \n",
      "2019-07-24 14:19:14,574 INFO ingestion.py: Finished training the model.\n",
      "2019-07-24 14:19:14,574 INFO ingestion.py: Begin testing the model by making predictions on test set...\n",
      "2019-07-24 14:19:14,574 INFO model.py: Counting number of examples on test set.\n",
      "2019-07-24 14:19:14,739 INFO model.py: Finished counting. There are 18 examples for test set.\n",
      "2019-07-24 14:19:14,739 INFO model.py: Begin testing...\n",
      "2019-07-24 14:19:14,749 INFO model.py: Tensor shape before preprocessing: (1, 32, 32, 3)\n",
      "2019-07-24 14:19:14,749 INFO model.py: Tensor shape after preprocessing: (1, 32, 32, 3)\n",
      "2019-07-24 14:19:15,134 INFO model.py: [+] Successfully made one prediction. 0.39 sec used. Duration used for test: 0.394832\n",
      "2019-07-24 14:19:15,135 INFO ingestion.py: Finished making predictions.\n",
      "2019-07-24 14:19:15,136 INFO ingestion.py: [+] 1 predictions made, time spent so far 5.73 sec\n",
      "2019-07-24 14:19:15,136 INFO ingestion.py: [+] Time left 1194.27 sec\n",
      "2019-07-24 14:19:15,136 INFO ingestion.py: Begin training the model...\n",
      "2019-07-24 14:19:15,137 INFO model.py: Model already trained for 3.6585 epochs.\n",
      "2019-07-24 14:19:15,137 INFO model.py: The model chooses to stop further training because The preset maximum number of epochs for training is obtained: self.num_epochs_we_want_to_train = 1\n",
      "2019-07-24 14:19:15,137 INFO ingestion.py: Finished training the model.\n",
      "2019-07-24 14:19:15,137 INFO ingestion.py: Begin testing the model by making predictions on test set...\n",
      "2019-07-24 14:19:15,137 INFO model.py: Begin testing...\n",
      "2019-07-24 14:19:15,155 INFO model.py: Tensor shape before preprocessing: (1, 32, 32, 3)\n",
      "2019-07-24 14:19:15,155 INFO model.py: Tensor shape after preprocessing: (1, 32, 32, 3)\n",
      "2019-07-24 14:19:15,560 INFO model.py: [+] Successfully made one prediction. 0.42 sec used. Duration used for test: 0.422441\n",
      "2019-07-24 14:19:15,560 INFO ingestion.py: Finished making predictions.\n",
      "2019-07-24 14:19:15,561 INFO ingestion.py: [+] 2 predictions made, time spent so far 6.16 sec\n",
      "2019-07-24 14:19:15,561 INFO ingestion.py: [+] Time left 1193.84 sec\n",
      "2019-07-24 14:19:15,562 INFO ingestion.py: Wrote the file end.txt marking the end of ingestion.\n",
      "2019-07-24 14:19:15,562 INFO ingestion.py: [+] Done. Ingestion program successfully terminated.\n",
      "2019-07-24 14:19:15,562 INFO ingestion.py: [+] Overall time spent  6.16 sec \n",
      "2019-07-24 14:19:15,581 INFO ingestion.py: [Ingestion terminated]\n",
      "2019-07-24 14:19:15,589 WARNING score.py: Some columns in solution have only one class, ignoring these columns for evaluation.\n",
      "2019-07-24 14:19:15,592 WARNING score.py: Some columns in solution have only one class, ignoring these columns for evaluation.\n",
      "2019-07-24 14:19:15,594 INFO score.py: [+] New prediction found. Now number of predictions made = 2\n",
      "2019-07-24 14:19:15,599 WARNING score.py: Some columns in solution have only one class, ignoring these columns for evaluation.\n",
      "2019-07-24 14:19:15,604 WARNING score.py: Some columns in solution have only one class, ignoring these columns for evaluation.\n",
      "2019-07-24 14:19:15,608 INFO score.py: (2 * AUC - 1) of the latest prediction is 0.0962.\n",
      "2019-07-24 14:19:15,608 INFO score.py: Accuracy of the latest prediction is 0.0897.\n",
      "2019-07-24 14:19:16,106 INFO score.py: Current area under learning curve for miniciao: 0.0934\n",
      "2019-07-24 14:19:16,107 INFO score.py: Detected ingestion program had stopped running because an 'end.txt' file is written by ingestion. Stop scoring now.\n",
      "2019-07-24 14:19:16,109 WARNING score.py: Some columns in solution have only one class, ignoring these columns for evaluation.\n",
      "2019-07-24 14:19:16,113 WARNING score.py: Some columns in solution have only one class, ignoring these columns for evaluation.\n",
      "2019-07-24 14:19:16,115 INFO score.py: (2 * AUC - 1) of the latest prediction is 0.0962.\n",
      "2019-07-24 14:19:16,115 INFO score.py: Accuracy of the latest prediction is 0.0897.\n",
      "2019-07-24 14:19:16,409 INFO score.py: Final area under learning curve for miniciao: 0.0934\n",
      "2019-07-24 14:19:16,410 INFO score.py: [+] Successfully finished scoring! Scoring duration: 5.84 sec. Ingestion duration: 6.16 sec. The score of your algorithm on the task 'miniciao' is: 0.093359.\n",
      "2019-07-24 14:19:16,411 INFO score.py: [Scoring terminated]\n"
     ]
    }
   ],
   "source": [
    "# run local test\n",
    "!python run_local_test.py -code_dir=./AutoDL_sample_code_submission -dataset_dir=AutoDL_sample_data/miniciao"
   ]
  },
  {
   "cell_type": "code",
   "execution_count": 13,
   "metadata": {},
   "outputs": [
    {
     "data": {
      "text/html": [
       "<html><body><pre><img src=\"data:image/png;charset=utf-8;base64,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\"/><br></pre></body></html>"
      ],
      "text/plain": [
       "<IPython.core.display.HTML object>"
      ]
     },
     "metadata": {},
     "output_type": "display_data"
    }
   ],
   "source": [
    "# result report\n",
    "from IPython.core.display import display, HTML\n",
    "\n",
    "display(HTML(detailed_results_page))"
   ]
  },
  {
   "cell_type": "markdown",
   "metadata": {},
   "source": [
    "From the learning curve we see that the predictions are only made at the beginning, then the training is stopped and no more predictions are made. This is due to several reasons:\n",
    "- the linear baseline by default only trains the model for 1 single epoch. This is specified by the attribute `self.num_epochs_we_want_to_train` in the class `Model`. (When this number of epochs of training is attained, the model will set `self.done_training` to `True` and ingestion program will stop the whole train/predict process and do final evaluation in scoring program);\n",
    "- the dataset `miniciao` is very small as it contains only 100 examples;\n",
    "- the neural network in this linear baseline method is very simple. Actually there is even no hidden layer in the neural network. \n",
    "All these factors together make the training (and testing/predicting) fast.\n",
    "\n",
    "You are invited to change the value of `self.num_epochs_we_want_to_train` in `model.py` and/or change the arguments (typically `code_dir` and `dataset_dir`) passed to `run_local_test.py` in a cell above to test different algorithms on different datasets, and hopefully get better performance than what we had. :)"
   ]
  },
  {
   "cell_type": "markdown",
   "metadata": {},
   "source": [
    "# Prepare a ZIP file ready for submission"
   ]
  },
  {
   "cell_type": "code",
   "execution_count": 14,
   "metadata": {},
   "outputs": [
    {
     "name": "stdout",
     "output_type": "stream",
     "text": [
      "Submit this file: mysubmission.zip\n"
     ]
    }
   ],
   "source": [
    "# compress model to be submitted\n",
    "from data_io import zipdir\n",
    "submission_filename = 'mysubmission.zip'\n",
    "zipdir(submission_filename, model_dir)\n",
    "print(\"Submit this file: \" + submission_filename)"
   ]
  },
  {
   "cell_type": "markdown",
   "metadata": {},
   "source": [
    "# Next steps"
   ]
  },
  {
   "cell_type": "markdown",
   "metadata": {},
   "source": [
    "<font color='red'>\n",
    "If you run the above cells successfully, congratulations! You are all set! In order to get better score on the challenge, you need to design your model carefully, that can learn better and faster on different datasets."
   ]
  },
  {
   "cell_type": "markdown",
   "metadata": {},
   "source": [
    "<font color='red'>\n",
    "You don't need to write from scratch, but can instead follow our provided baseline model. Basically, you need to write three functions: (these functions can be found in <code>model.py</code>)\n",
    "\n",
    "- <code>preprocess_tensor_4d</code> (optional) for preprocessing data, e.g. resize, change gray images to RGB images\n",
    "- <code>input_function</code> (optional) for reading batchs\n",
    "- <code>model_fn</code> (mandatory) for defining your own models, CNN, ResNet, Inception, etc.\n",
    "\n",
    "For instructions on wrinting <code>model_fn</code>, you are invited to consult this page for reference: \n",
    "https://www.tensorflow.org/guide/custom_estimators#write_a_model_function\n",
    "\n",
    "Good luck!"
   ]
  }
 ],
 "metadata": {
  "kernelspec": {
   "display_name": "Python 3",
   "language": "python",
   "name": "python3"
  },
  "language_info": {
   "codemirror_mode": {
    "name": "ipython",
    "version": 3
   },
   "file_extension": ".py",
   "mimetype": "text/x-python",
   "name": "python",
   "nbconvert_exporter": "python",
   "pygments_lexer": "ipython3",
   "version": "3.5.2"
  }
 },
 "nbformat": 4,
 "nbformat_minor": 2
}
